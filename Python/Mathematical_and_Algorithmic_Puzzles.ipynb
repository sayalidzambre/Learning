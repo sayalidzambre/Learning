{
 "cells": [
  {
   "cell_type": "markdown",
   "metadata": {},
   "source": [
    "# Calculate Factorial\n",
    "Write a program to calculate nPr. nPr represents n permutation r and value of nPr is (n!) / (n-r)!.\n",
    "\n",
    "Input: \n",
    "The first line of the input contains T denoting the number of testcases. T testcases follow. First line of the test case will be the value of n and r respectively.\n",
    "\n",
    "Output:\n",
    "For each test case, in a new line, output will be the value of nPr.\n",
    "\n",
    "Constraints:\n",
    "1 <= T <= 100\n",
    "1 <= n,r <= 20\n",
    "n >= r\n",
    "\n",
    "Example:\n",
    "Input:\n",
    "2\n",
    "2 1\n",
    "10 4\n",
    "Output:\n",
    "2\n",
    "5040"
   ]
  },
  {
   "cell_type": "code",
   "execution_count": 1,
   "metadata": {},
   "outputs": [
    {
     "name": "stdout",
     "output_type": "stream",
     "text": [
      "1\n",
      "2 1\n",
      "2\n"
     ]
    }
   ],
   "source": [
    "from functools import reduce\n",
    "def factorial(n):return reduce(lambda x,y:x*y,[1]+list(range(1,n+1)))\n",
    "\n",
    "def calculatenPr(N):\n",
    "    n, r = N.split(' ')\n",
    "    return factorial(int(n)) // factorial(int(n) - int(r)) \n",
    "if __name__ == '__main__':\n",
    "    T = int(input())\n",
    "    \n",
    "    for i in range(T):\n",
    "        print(calculatenPr(input()))"
   ]
  },
  {
   "cell_type": "markdown",
   "metadata": {},
   "source": [
    "# Binary number to decimal number\n",
    "\n",
    "Given a Binary Number B, Print its decimal equivalent.\n",
    "\n",
    "Input:\n",
    "The first line of input contains an integer T denoting the number of test cases. The description of T test cases follow. Each test case contains a single Binary number B. \n",
    "\n",
    "Output: \n",
    "For each testcase, in a new line, print each Decimal number in new line.\n",
    "\n",
    "Constraints:\n",
    "1 <= T <= 100\n",
    "1 <= Digits in Binary <= 16\n",
    "\n",
    "Example:\n",
    "Input:\n",
    "2\n",
    "10001000\n",
    "101100\n",
    "Output:\n",
    "136\n",
    "44"
   ]
  },
  {
   "cell_type": "code",
   "execution_count": 2,
   "metadata": {},
   "outputs": [
    {
     "name": "stdout",
     "output_type": "stream",
     "text": [
      "1\n",
      "10101\n",
      "21\n"
     ]
    }
   ],
   "source": [
    "#code\n",
    "\n",
    "def check_binary(N):\n",
    "    number = list(N)\n",
    "    print(sum([2**i if number[-1-i] == '1' else 0 for i in range(len(N))]))\n",
    "    \n",
    "if __name__ == '__main__':\n",
    "    T = int(input())\n",
    "    \n",
    "    for i in range(T):\n",
    "        check_binary(input())"
   ]
  },
  {
   "cell_type": "markdown",
   "metadata": {},
   "source": [
    "# Armstrong Numbers\n",
    "\n",
    "For a given 3 digit number, find whether it is armstrong number or not. An Armstrong number of three digits is an integer such that the sum of the cubes of its digits is equal to the number itself. For example, 371 is an Armstrong number since 33 + 73 + 13 = 371\n",
    "\n",
    "Input:\n",
    "First line contains an integer, the number of test cases 'T'. T testcases follow. Each test case contains a positive integer N.\n",
    "\n",
    "Output:\n",
    "For each testcase, in a new line, print \"Yes\" if it is a armstrong number else print \"No\".\n",
    "\n",
    "Constraints:\n",
    "1 <= T <= 31\n",
    "100 <= N < 1000\n",
    "\n",
    "Example:\n",
    "Input:\n",
    "1\n",
    "371\n",
    "Output:\n",
    "Yes"
   ]
  },
  {
   "cell_type": "code",
   "execution_count": 6,
   "metadata": {},
   "outputs": [
    {
     "name": "stdout",
     "output_type": "stream",
     "text": [
      "1\n",
      "123\n",
      "No\n"
     ]
    }
   ],
   "source": [
    "\n",
    "def check_armstrong(N):\n",
    "     return 'Yes' if int(N) == sum([int(digit) **3 for digit in N]) else \"No\"\n",
    "            \n",
    "if __name__ == '__main__':\n",
    "    T = int(input())\n",
    "    \n",
    "    for i in range(T):\n",
    "        print(check_armstrong(input()))"
   ]
  },
  {
   "cell_type": "markdown",
   "metadata": {},
   "source": [
    "# Different ways to write factorial defination"
   ]
  },
  {
   "cell_type": "code",
   "execution_count": 8,
   "metadata": {},
   "outputs": [
    {
     "name": "stdout",
     "output_type": "stream",
     "text": [
      "1\n",
      "4\n",
      "24\n"
     ]
    }
   ],
   "source": [
    "def fac(n): return 1 if (n < 1) else n * fac(n-1)\n",
    "from functools import reduce\n",
    "def factorial(n):return reduce(lambda x,y:x*y,[1]+list(range(1,n+1)))\n",
    "\n",
    "if __name__ == '__main__':\n",
    "    T = int(input())\n",
    "    for i in range(T):\n",
    "        print(fac(int(input())))"
   ]
  },
  {
   "cell_type": "markdown",
   "metadata": {},
   "source": [
    "# Is Prime"
   ]
  },
  {
   "cell_type": "markdown",
   "metadata": {},
   "source": [
    "#### O(N) time Complexity"
   ]
  },
  {
   "cell_type": "code",
   "execution_count": 15,
   "metadata": {},
   "outputs": [
    {
     "name": "stdout",
     "output_type": "stream",
     "text": [
      "2\n",
      "4\n",
      "No\n",
      "3\n",
      "Yes\n"
     ]
    }
   ],
   "source": [
    "def is_prime(n):\n",
    "    # We know 1 is not a prime number\n",
    "    if n == 1:\n",
    "        return 'No'\n",
    "    # We store the number of factors in this variable\n",
    "    factors = 0\n",
    "    # This will loop from 1 to n\n",
    "    for i in range(1, n+1):\n",
    "        # Check if `i` divides `n`, if yes then we increment the factors\n",
    "        if n % i == 0:\n",
    "            factors += 1\n",
    "    # If total factors are exactly 2\n",
    "    return 'Yes' if factors == 2 else 'No'\n",
    "if __name__ == '__main__':\n",
    "    T = int(input())\n",
    "    for i in range(T):\n",
    "        print(is_prime(int(input())))"
   ]
  },
  {
   "cell_type": "markdown",
   "metadata": {},
   "source": [
    "#### O (sqrt(N)) Time Complexity"
   ]
  },
  {
   "cell_type": "code",
   "execution_count": 16,
   "metadata": {},
   "outputs": [
    {
     "name": "stdout",
     "output_type": "stream",
     "text": [
      "3\n",
      "4\n",
      "No\n",
      "3\n",
      "Yes\n",
      "2\n",
      "Yes\n"
     ]
    }
   ],
   "source": [
    "def is_prime(n):\n",
    "    # We know 1 is not a prime number\n",
    "    if n == 1:\n",
    "        return 'No'\n",
    "\n",
    "    i = 2\n",
    "    # This will loop from 2 to int(sqrt(x))\n",
    "    while i*i <= n:\n",
    "        # Check if i divides x without leaving a remainder\n",
    "        if n % i == 0:\n",
    "            # This means that n has a factor in between 2 and sqrt(n)\n",
    "            # So it is not a prime number\n",
    "            return 'No'\n",
    "        i += 1\n",
    "    # If we did not find any factor in the above loop,\n",
    "    # then n is a prime number\n",
    "    return 'Yes'\n",
    "\n",
    "if __name__ == '__main__':\n",
    "    T = int(input())\n",
    "    for i in range(T):\n",
    "        print(is_prime(int(input())))"
   ]
  },
  {
   "cell_type": "markdown",
   "metadata": {},
   "source": [
    "# LCM And GCD"
   ]
  },
  {
   "cell_type": "code",
   "execution_count": 17,
   "metadata": {},
   "outputs": [
    {
     "name": "stdout",
     "output_type": "stream",
     "text": [
      "2\n",
      "2 3\n",
      "6 1\n",
      "4 2\n",
      "4 2\n"
     ]
    }
   ],
   "source": [
    "def gcd(a,b):\n",
    "    if b == 0:\n",
    "        return a\n",
    "    return gcd(b,a%b)\n",
    "\n",
    "for _ in range(int(input())):\n",
    "    a,b = map(int,input().split())\n",
    "    gcdAB = gcd(a,b)\n",
    "    lcm = (a*b)//gcdAB\n",
    "    print(lcm,gcdAB)"
   ]
  },
  {
   "cell_type": "markdown",
   "metadata": {},
   "source": [
    "# reverse digit"
   ]
  },
  {
   "cell_type": "code",
   "execution_count": 18,
   "metadata": {},
   "outputs": [
    {
     "name": "stdout",
     "output_type": "stream",
     "text": [
      "1\n",
      "123\n",
      "321\n"
     ]
    }
   ],
   "source": [
    "for _ in range(int(input())):\n",
    "    print(int(input()[::-1]))"
   ]
  },
  {
   "cell_type": "code",
   "execution_count": 20,
   "metadata": {},
   "outputs": [
    {
     "name": "stdout",
     "output_type": "stream",
     "text": [
      "321\n"
     ]
    }
   ],
   "source": [
    "def reverse_number(n):\n",
    "    r = 0\n",
    "    while n > 0:\n",
    "        r *= 10\n",
    "        r += n % 10\n",
    "        n //= 10\n",
    "    return r\n",
    "\n",
    "print(reverse_number(123))"
   ]
  },
  {
   "cell_type": "code",
   "execution_count": 21,
   "metadata": {},
   "outputs": [
    {
     "name": "stdout",
     "output_type": "stream",
     "text": [
      "2\n",
      "34\n",
      "43\n",
      "23\n",
      "32\n"
     ]
    }
   ],
   "source": [
    "def reverse_number(n):\n",
    "    r = 0\n",
    "    while n > 0:\n",
    "        r *= 10\n",
    "        r += n % 10\n",
    "        n //= 10\n",
    "    return r\n",
    "\n",
    "for _ in range(int(input())):\n",
    "    print(reverse_number(int(input())))"
   ]
  },
  {
   "cell_type": "markdown",
   "metadata": {},
   "source": [
    "# Closest Number"
   ]
  },
  {
   "cell_type": "code",
   "execution_count": 32,
   "metadata": {},
   "outputs": [
    {
     "name": "stdout",
     "output_type": "stream",
     "text": [
      "1\n",
      "2 20\n",
      "20\n"
     ]
    }
   ],
   "source": [
    "def closest_number(a,b):\n",
    "    mod = a % b\n",
    "    div = abs(a)//b\n",
    "    if div == 0:\n",
    "        return 0\n",
    "    if div == 1:\n",
    "        return b\n",
    "    if div == -1:\n",
    "        return -b\n",
    "    \n",
    "    if (a > 0):\n",
    "        mod = mod\n",
    "    elif (a < 0):\n",
    "        mod = b - mod\n",
    "    return a - mod\n",
    "\n",
    "for _ in range(int(input())):\n",
    "    a,b = map(int,input().split())\n",
    "    print(closest_number(a,b))"
   ]
  },
  {
   "cell_type": "code",
   "execution_count": 37,
   "metadata": {},
   "outputs": [
    {
     "name": "stdout",
     "output_type": "stream",
     "text": [
      "4\n",
      "204 100\n",
      "200\n",
      "299 100\n",
      "300\n",
      "-299 100\n",
      "-298\n",
      "-200 100\n",
      "-200\n"
     ]
    }
   ],
   "source": [
    "val = 0\n",
    "for i in range(int(input())):\n",
    "    n,m = map(int,(input().split()))\n",
    "    if (abs(n)//m == 1):\n",
    "        if (n < 0):\n",
    "            val = (-m)\n",
    "        else:\n",
    "            val = (m)\n",
    "    else:\n",
    "        for i in range (0,abs(n)):\n",
    "            if ((abs(n)-i)%m == 0):\n",
    "                val = (n-i)\n",
    "                break\n",
    "            if ((abs(n)+i)%m == 0):\n",
    "                val = (n+i)\n",
    "                break\n",
    "    print (val)\n",
    "  "
   ]
  },
  {
   "cell_type": "markdown",
   "metadata": {},
   "source": [
    "# Series GP"
   ]
  },
  {
   "cell_type": "code",
   "execution_count": 39,
   "metadata": {},
   "outputs": [
    {
     "name": "stdout",
     "output_type": "stream",
     "text": [
      "1\n",
      "2 3\n",
      "2\n",
      "3\n"
     ]
    }
   ],
   "source": [
    "def calculateGPat(a, b, N):\n",
    "    if N == 1:\n",
    "        return a\n",
    "    if N == 2:\n",
    "        return b\n",
    "    div = b/a\n",
    "    for i in range(3, N+1):\n",
    "        b = div * b\n",
    "    return int(b)\n",
    "\n",
    "for _ in range(int(input())):\n",
    "    a,b = map(int,input().split())\n",
    "    N = int(input())\n",
    "    print(calculateGPat(a, b, N))"
   ]
  },
  {
   "cell_type": "markdown",
   "metadata": {},
   "source": [
    "# Print the Kth Digit\n",
    "Given two numbers A and B, find Kth digit from right of AB."
   ]
  },
  {
   "cell_type": "code",
   "execution_count": 41,
   "metadata": {},
   "outputs": [
    {
     "name": "stdout",
     "output_type": "stream",
     "text": [
      "1\n",
      "2 3 1\n",
      "8\n"
     ]
    }
   ],
   "source": [
    "def calculate_digit(a, b, c):\n",
    "    return int(list(str(a**b))[-c])\n",
    "\n",
    "for _ in range(int(input())):\n",
    "    a,b,c = map(int,input().split())\n",
    "    print(calculate_digit(a, b, c))"
   ]
  },
  {
   "cell_type": "markdown",
   "metadata": {},
   "source": [
    "# GCD of Array\n",
    "Given an array of N positive integers. Your task is to find the GCD of all numbers of the array"
   ]
  },
  {
   "cell_type": "code",
   "execution_count": null,
   "metadata": {},
   "outputs": [],
   "source": []
  },
  {
   "cell_type": "code",
   "execution_count": 43,
   "metadata": {},
   "outputs": [],
   "source": []
  },
  {
   "cell_type": "code",
   "execution_count": 72,
   "metadata": {},
   "outputs": [],
   "source": []
  },
  {
   "cell_type": "code",
   "execution_count": null,
   "metadata": {},
   "outputs": [],
   "source": []
  }
 ],
 "metadata": {
  "kernelspec": {
   "display_name": "Python [conda env:Anaconda3]",
   "language": "python",
   "name": "conda-env-Anaconda3-py"
  },
  "language_info": {
   "codemirror_mode": {
    "name": "ipython",
    "version": 3
   },
   "file_extension": ".py",
   "mimetype": "text/x-python",
   "name": "python",
   "nbconvert_exporter": "python",
   "pygments_lexer": "ipython3",
   "version": "3.6.5"
  }
 },
 "nbformat": 4,
 "nbformat_minor": 2
}
