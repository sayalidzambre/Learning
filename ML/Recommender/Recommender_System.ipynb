{
 "cells": [
  {
   "cell_type": "code",
   "execution_count": 8,
   "metadata": {},
   "outputs": [],
   "source": [
    "import os\n",
    "import re\n",
    "import math\n",
    "import random\n",
    "import warnings\n",
    "\n",
    "import numpy as np\n",
    "import pandas as pd\n",
    "\n",
    "import matplotlib.pyplot as plt\n",
    "import matplotlib.patches as mpatches\n",
    "import matplotlib.dates as mdates\n",
    "import networkx as nx\n",
    "\n",
    "from wordcloud import WordCloud\n",
    "from datetime import datetime\n",
    "from sklearn.feature_extraction.text import TfidfVectorizer\n",
    "from sklearn.metrics.pairwise import cosine_similarity\n",
    "\n",
    "import spacy\n",
    "nlp = spacy.load('en_core_web_sm')\n",
    "nlp.remove_pipe('parser')\n",
    "nlp.remove_pipe('ner')\n",
    "#nlp.remove_pipe('tagger')\n",
    "\n",
    "import gensim\n",
    "import pyLDAvis\n",
    "import pyLDAvis.gensim\n",
    "pyLDAvis.enable_notebook()"
   ]
  },
  {
   "cell_type": "code",
   "execution_count": 9,
   "metadata": {},
   "outputs": [],
   "source": [
    "input_dir = 'data'\n",
    "#print(os.listdir(input_dir))\n",
    "\n",
    "professionals = pd.read_csv(os.path.join(input_dir, 'professionals.csv'))\n",
    "groups = pd.read_csv(os.path.join(input_dir, 'groups.csv'))\n",
    "comments = pd.read_csv(os.path.join(input_dir, 'comments.csv'))\n",
    "school_memberships = pd.read_csv(os.path.join(input_dir, 'school_memberships.csv'))\n",
    "tags = pd.read_csv(os.path.join(input_dir, 'tags.csv'))\n",
    "emails = pd.read_csv(os.path.join(input_dir, 'emails.csv'))\n",
    "group_memberships = pd.read_csv(os.path.join(input_dir, 'group_memberships.csv'))\n",
    "answers = pd.read_csv(os.path.join(input_dir, 'answers.csv'))\n",
    "students = pd.read_csv(os.path.join(input_dir, 'students.csv'))\n",
    "matches = pd.read_csv(os.path.join(input_dir, 'matches.csv'))\n",
    "questions = pd.read_csv(os.path.join(input_dir, 'questions.csv'))\n",
    "tag_users = pd.read_csv(os.path.join(input_dir, 'tag_users.csv'))\n",
    "tag_questions = pd.read_csv(os.path.join(input_dir, 'tag_questions.csv'))\n",
    "answer_scores = pd.read_csv(os.path.join(input_dir, 'answer_scores.csv'))\n",
    "question_scores = pd.read_csv(os.path.join(input_dir, 'question_scores.csv'))"
   ]
  },
  {
   "cell_type": "code",
   "execution_count": 10,
   "metadata": {},
   "outputs": [],
   "source": [
    "warnings.filterwarnings('ignore')\n",
    "pd.set_option('display.max_colwidth', -1)\n",
    "\n",
    "seed = 13\n",
    "random.seed(seed)\n",
    "np.random.seed(seed)"
   ]
  },
  {
   "cell_type": "code",
   "execution_count": 17,
   "metadata": {},
   "outputs": [
    {
     "name": "stdout",
     "output_type": "stream",
     "text": [
      "professionals - Index(['professionals_id', 'professionals_location', 'professionals_industry',\n",
      "       'professionals_headline', 'professionals_date_joined'],\n",
      "      dtype='object') \n",
      "\n",
      "students - Index(['students_id', 'students_location', 'students_date_joined'], dtype='object') \n",
      "\n",
      " questions - Index(['questions_id', 'questions_author_id', 'questions_date_added',\n",
      "       'questions_title', 'questions_body'],\n",
      "      dtype='object') \n",
      "\n",
      "answers - Index(['answers_id', 'answers_author_id', 'answers_question_id',\n",
      "       'answers_date_added', 'answers_body'],\n",
      "      dtype='object')\n",
      "\n"
     ]
    }
   ],
   "source": [
    "print(f\"\"\"professionals - {professionals.columns} \\n\n",
    "students - {students.columns} \\n\\n questions - {questions.columns} \\n\n",
    "answers - {answers.columns}\n",
    "\"\"\")"
   ]
  },
  {
   "cell_type": "code",
   "execution_count": 26,
   "metadata": {},
   "outputs": [
    {
     "data": {
      "text/plain": [
       "(Index(['id', 'score'], dtype='object'),\n",
       " Index(['id', 'score'], dtype='object'),\n",
       " Index(['tag_questions_tag_id', 'tag_questions_question_id'], dtype='object'))"
      ]
     },
     "execution_count": 26,
     "metadata": {},
     "output_type": "execute_result"
    }
   ],
   "source": [
    "question_scores.columns, answer_scores.columns, tag_questions.columns"
   ]
  },
  {
   "cell_type": "markdown",
   "metadata": {},
   "source": [
    "### Features extraction"
   ]
  },
  {
   "cell_type": "markdown",
   "metadata": {},
   "source": [
    "#### tokenize POS"
   ]
  },
  {
   "cell_type": "code",
   "execution_count": 12,
   "metadata": {},
   "outputs": [],
   "source": [
    "# Spacy Tokenfilter for part-of-speech tagging\n",
    "token_pos = ['NOUN', 'VERB', 'PROPN', 'ADJ', 'INTJ', 'X']\n",
    "\n",
    "# The data export was from 1. February 2019. For Production use datetime.now()\n",
    "actual_date = datetime(2019, 2 ,1)"
   ]
  },
  {
   "cell_type": "code",
   "execution_count": 13,
   "metadata": {},
   "outputs": [],
   "source": [
    "def nlp_preprocessing(data):\n",
    "    \"\"\" Use NLP to transform the text corpus to cleaned sentences and word tokens\n",
    "\n",
    "        param data: List with sentences, which should be processed.\n",
    "        return processed_tokens: List with the cleaned and tokenized sentences\n",
    "    \"\"\"    \n",
    "    def token_filter(token):\n",
    "        \"\"\" Keep tokens who are alphapetic, in the pos (part-of-speech) list and not in stop list\n",
    "            \n",
    "        \"\"\"    \n",
    "        return not token.is_stop and token.is_alpha and token.pos_ in token_pos\n",
    "    \n",
    "    data = [re.compile(r'<[^>]+>').sub('', x) for x in data] #Remove HTML-tags\n",
    "    processed_tokens = []\n",
    "    data_pipe = nlp.pipe(data)\n",
    "    for doc in data_pipe:\n",
    "        filtered_tokens = [token.lemma_.lower() for token in doc if token_filter(token)]\n",
    "        processed_tokens.append(filtered_tokens)\n",
    "    return processed_tokens"
   ]
  },
  {
   "cell_type": "markdown",
   "metadata": {},
   "source": [
    "### Features\n",
    "First we transform the datetime columns (`date_added` and `date_joined`), so that we can work with time delta functions.  \n",
    "After this we create the following new columns:  \n",
    "\n",
    "**DataFrame Questions:**  \n",
    "* **questions_full_text:** Merge the questions title with the body for later use of NLP.  \n",
    "* **questions_answers_count:** How many answers a question has.  \n",
    "* **questions_first_answers:** The timestamp for the first answer of the question.  \n",
    "* **questions_last_answers:** The timestamp for the last answer of the question.  \n",
    "* **questions_hearts:** Hearts score for the question.  \n",
    "* **questions_tags:** List with tags for the question.  \n",
    "* **nlp_tokens:** Extract relevant tokens from the question full text.  \n",
    "\n",
    "**DataFrame Answers:**  \n",
    "* **time_delta_answert:** Time delta from question to answer.  \n",
    "* **answers_time_rank:** Ranking for time to answer the question.  \n",
    "* **answers_hearts:** Hearts score for the answer.\n",
    "\n",
    "**DataFrame Professionals:**  \n",
    "* **professionals_time_delta_joined:** Time since creating the account.  \n",
    "* **professionals_answers_count:** Number of written answers.  \n",
    "* **professionals_comments_count:** Number of written comments.  \n",
    "* **date_last_answer:** Date last answer.  \n",
    "* **date_first_answer:** Date first answer.  \n",
    "* **date_last_comment:** Date last comment.  \n",
    "* **date_first_comment:** Date first comment.  \n",
    "* **date_last_activity:** Date last activity (answer or comment).  \n",
    "* **date_first_activity:** Date first activity (answer or comment).  \n",
    "* **professional_answers_hearts:** Hearts score for all answers. \n",
    "* **professional_tags:** List with tags for the professional.  \n",
    "\n",
    "**DataFrame Students:**  \n",
    "* **students_time_delta_joined:** Time since creating the account.  \n",
    "* **students_questions_count:** Number of written questions.  \n",
    "* **students_comments_count:** Number of written comments.  \n",
    "* **date_last_questions:** Date last question.  \n",
    "* **date_first_questions:** Date first question.  \n",
    "* **date_last_comment:** Date last comment.  \n",
    "* **date_first_comment:** Date first comment.  \n",
    "* **date_last_activity:** Date last activity (question or comment).  \n",
    "* **date_first_activity:** Date first activity (question or comment).  \n",
    "* **students_questions_hearts:** Hearts score for all questions.  \n",
    "* **students_tags:** List with tags for the students.  \n",
    "\n",
    "**New DataFrame emails_response:**  \n",
    "Has the response activity from professionals to emails and additional informations about the questions behind.\n",
    "* **time_delta_email_answer:** Time needed the question was answered after the email was send.  \n",
    "* **time_delta_question_email:** Time needed the email was send after the questions was written."
   ]
  },
  {
   "cell_type": "code",
   "execution_count": 18,
   "metadata": {},
   "outputs": [],
   "source": [
    "# Transform datetime datatypes\n",
    "questions['questions_date_added'] = pd.to_datetime(questions['questions_date_added'], infer_datetime_format=True)\n",
    "answers['answers_date_added'] = pd.to_datetime(answers['answers_date_added'], infer_datetime_format=True)\n",
    "professionals['professionals_date_joined'] = pd.to_datetime(professionals['professionals_date_joined'], infer_datetime_format=True)\n",
    "students['students_date_joined'] = pd.to_datetime(students['students_date_joined'], infer_datetime_format=True)\n",
    "emails['emails_date_sent'] = pd.to_datetime(emails['emails_date_sent'], infer_datetime_format=True)\n",
    "comments['comments_date_added'] = pd.to_datetime(comments['comments_date_added'], infer_datetime_format=True)\n"
   ]
  },
  {
   "cell_type": "markdown",
   "metadata": {},
   "source": [
    "### Questions"
   ]
  },
  {
   "cell_type": "code",
   "execution_count": 19,
   "metadata": {},
   "outputs": [],
   "source": [
    "# Merge Question Title and Body\n",
    "questions['questions_full_text'] = questions['questions_title'] +'\\r\\n\\r\\n'+ questions['questions_body']"
   ]
  },
  {
   "cell_type": "code",
   "execution_count": 20,
   "metadata": {},
   "outputs": [],
   "source": [
    "# Count of answers for a question\n",
    "temp = answers.groupby('answers_question_id').size()\n",
    "questions['questions_answers_count'] = pd.merge(questions, pd.DataFrame(temp.rename('count')), left_on='questions_id', right_index=True, how='left')['count'].fillna(0).astype(int)"
   ]
  },
  {
   "cell_type": "code",
   "execution_count": 21,
   "metadata": {},
   "outputs": [],
   "source": [
    "# First answer for questions\n",
    "temp = answers[['answers_question_id', 'answers_date_added']].groupby('answers_question_id').min()\n",
    "questions['questions_first_answers'] = pd.merge(questions, pd.DataFrame(temp), left_on='questions_id', right_index=True, how='left')['answers_date_added']"
   ]
  },
  {
   "cell_type": "code",
   "execution_count": 22,
   "metadata": {},
   "outputs": [],
   "source": [
    "# Last answer for questions\n",
    "temp = answers[['answers_question_id', 'answers_date_added']].groupby('answers_question_id').max()\n",
    "questions['questions_last_answers'] = pd.merge(questions, pd.DataFrame(temp), left_on='questions_id', right_index=True, how='left')['answers_date_added']"
   ]
  },
  {
   "cell_type": "code",
   "execution_count": 23,
   "metadata": {},
   "outputs": [],
   "source": [
    "# Hearts Score\n",
    "temp = pd.merge(questions, question_scores, left_on='questions_id', right_on='id', how='left')\n",
    "questions['questions_hearts'] = temp['score'].fillna(0).astype(int)"
   ]
  },
  {
   "cell_type": "code",
   "execution_count": 30,
   "metadata": {},
   "outputs": [
    {
     "data": {
      "text/plain": [
       "(Index(['questions_id', 'questions_author_id', 'questions_date_added',\n",
       "        'questions_title', 'questions_body', 'questions_full_text',\n",
       "        'questions_answers_count', 'questions_first_answers',\n",
       "        'questions_last_answers', 'questions_hearts'],\n",
       "       dtype='object'),\n",
       " Index(['tags_tag_id', 'tags_tag_name'], dtype='object'),\n",
       " Index(['tag_questions_tag_id', 'tag_questions_question_id'], dtype='object'),\n",
       " (23931, 10),\n",
       " (16269, 2),\n",
       " (76553, 2),\n",
       "    tags_tag_id      tags_tag_name\n",
       " 0  27490        college          \n",
       " 1  461          computer-science \n",
       " 2  593          computer-software\n",
       " 3  27292        business         \n",
       " 4  18217        doctor           ,\n",
       "    tag_questions_tag_id         tag_questions_question_id\n",
       " 0  28930                 cb43ebee01364c68ac61d347a393ae39\n",
       " 1  28930                 47f55e85ce944242a5a347ab85a8ffb4\n",
       " 2  28930                 ccc30a033a0f4dfdb2eb987012f25792\n",
       " 3  28930                 e30b274e48d741f7bf50eb5e7171a3c0\n",
       " 4  28930                 3d22742052df4989b311b4195cbb0f1a)"
      ]
     },
     "execution_count": 30,
     "metadata": {},
     "output_type": "execute_result"
    }
   ],
   "source": [
    "questions.columns,tags.columns, tag_questions.columns , questions.shape,tags.shape, tag_questions.shape, tags.head(),tag_questions.head()"
   ]
  },
  {
   "cell_type": "code",
   "execution_count": 31,
   "metadata": {},
   "outputs": [
    {
     "data": {
      "text/plain": [
       "(16269, 7091)"
      ]
     },
     "execution_count": 31,
     "metadata": {},
     "output_type": "execute_result"
    }
   ],
   "source": [
    "tags.tags_tag_id.nunique(), tag_questions.tag_questions_tag_id.nunique()"
   ]
  },
  {
   "cell_type": "code",
   "execution_count": 32,
   "metadata": {},
   "outputs": [
    {
     "data": {
      "text/plain": [
       "set()"
      ]
     },
     "execution_count": 32,
     "metadata": {},
     "output_type": "execute_result"
    }
   ],
   "source": [
    "set(tag_questions.tag_questions_tag_id)-set(tags.tags_tag_id)"
   ]
  },
  {
   "cell_type": "code",
   "execution_count": 33,
   "metadata": {},
   "outputs": [],
   "source": [
    "# Find list of tags for a question\n",
    "temp = pd.merge(questions, tag_questions, left_on='questions_id', right_on='tag_questions_question_id', how='inner')\n",
    "temp = pd.merge(temp, tags, left_on='tag_questions_tag_id', right_on='tags_tag_id', how='inner')\n",
    "temp = temp.groupby('questions_id')['tags_tag_name'].apply(list).rename('questions_tags')\n",
    "questions['questions_tags'] = pd.merge(questions, temp.to_frame(), left_on='questions_id', right_index=True, how='left')['questions_tags']"
   ]
  },
  {
   "cell_type": "code",
   "execution_count": 34,
   "metadata": {},
   "outputs": [],
   "source": [
    "# Get NLP Tokens\n",
    "questions['nlp_tokens'] = nlp_preprocessing(questions['questions_full_text'])"
   ]
  },
  {
   "cell_type": "markdown",
   "metadata": {},
   "source": [
    "### Answers\n",
    "\n",
    "**DataFrame Answers:**  \n",
    "* **time_delta_answert:** Time delta from question to answer.  \n",
    "* **answers_time_rank:** Ranking for time to answer the question.  \n",
    "* **answers_hearts:** Hearts score for the answer."
   ]
  },
  {
   "cell_type": "code",
   "execution_count": 35,
   "metadata": {},
   "outputs": [],
   "source": [
    "# Days required to answer the question\n",
    "temp = pd.merge(questions, answers, left_on='questions_id', right_on='answers_question_id')\n",
    "answers['time_delta_answer'] = (temp['answers_date_added'] - temp['questions_date_added'])"
   ]
  },
  {
   "cell_type": "code",
   "execution_count": 36,
   "metadata": {},
   "outputs": [],
   "source": [
    "# Ranking for answers time\n",
    "answers['answers_time_rank'] = answers.groupby('answers_question_id')['time_delta_answer'].rank(method='min').astype(int)"
   ]
  },
  {
   "cell_type": "code",
   "execution_count": 37,
   "metadata": {},
   "outputs": [],
   "source": [
    "# Hearts Score\n",
    "temp = pd.merge(answers, answer_scores, left_on='answers_id', right_on='id', how='left')\n",
    "answers['answers_hearts'] = temp['score'].fillna(0).astype(int)"
   ]
  },
  {
   "cell_type": "code",
   "execution_count": 38,
   "metadata": {
    "collapsed": true
   },
   "outputs": [
    {
     "data": {
      "text/html": [
       "<div>\n",
       "<style scoped>\n",
       "    .dataframe tbody tr th:only-of-type {\n",
       "        vertical-align: middle;\n",
       "    }\n",
       "\n",
       "    .dataframe tbody tr th {\n",
       "        vertical-align: top;\n",
       "    }\n",
       "\n",
       "    .dataframe thead th {\n",
       "        text-align: right;\n",
       "    }\n",
       "</style>\n",
       "<table border=\"1\" class=\"dataframe\">\n",
       "  <thead>\n",
       "    <tr style=\"text-align: right;\">\n",
       "      <th></th>\n",
       "      <th>answers_id</th>\n",
       "      <th>answers_author_id</th>\n",
       "      <th>answers_question_id</th>\n",
       "      <th>answers_date_added</th>\n",
       "      <th>answers_body</th>\n",
       "      <th>time_delta_answer</th>\n",
       "      <th>answers_time_rank</th>\n",
       "      <th>answers_hearts</th>\n",
       "    </tr>\n",
       "  </thead>\n",
       "  <tbody>\n",
       "    <tr>\n",
       "      <th>0</th>\n",
       "      <td>4e5f01128cae4f6d8fd697cec5dca60c</td>\n",
       "      <td>36ff3b3666df400f956f8335cf53e09e</td>\n",
       "      <td>332a511f1569444485cf7a7a556a5e54</td>\n",
       "      <td>2016-04-29 19:40:14</td>\n",
       "      <td>&lt;p&gt;Hi!&lt;/p&gt;\\n&lt;p&gt;You are asking a very interesting question.  I am giving you two sites that will give you some of an explanation that may answer your question.&lt;/p&gt;\\n&lt;p&gt;http://mathforum.org/dr.math/faq/faq.why.math.html&lt;/p&gt;\\n&lt;p&gt;http://www.mathworksheetscenter.com/mathtips/mathissoimportant.html&lt;/p&gt;\\n&lt;p&gt;Let me know if this helps&lt;/p&gt;</td>\n",
       "      <td>3 days 08:25:48</td>\n",
       "      <td>1</td>\n",
       "      <td>0</td>\n",
       "    </tr>\n",
       "    <tr>\n",
       "      <th>1</th>\n",
       "      <td>ada720538c014e9b8a6dceed09385ee3</td>\n",
       "      <td>2aa47af241bf42a4b874c453f0381bd4</td>\n",
       "      <td>eb80205482e4424cad8f16bc25aa2d9c</td>\n",
       "      <td>2018-05-01 14:19:08</td>\n",
       "      <td>&lt;p&gt;Hi. I joined the Army after I attended college and received a Bachelor's Degree in Criminal Justice.  Commissioned officers enter the Military with a four year degree or receive officer training after joining and complete a tour. You can prepare yourself by taking Reserve Officer Training Corps (ROTC) while in high school or a university. You can also attend Officer Candidate School (OCS) after graduating from college or become commissioned by earning a professional degree. If you decide to earn a degree, think about what you would like to do while in the military.  The experience in the military was very rewarding. I wish you well and much success in your future. &lt;/p&gt;</td>\n",
       "      <td>710 days 21:30:43</td>\n",
       "      <td>1</td>\n",
       "      <td>0</td>\n",
       "    </tr>\n",
       "    <tr>\n",
       "      <th>2</th>\n",
       "      <td>eaa66ef919bc408ab5296237440e323f</td>\n",
       "      <td>cbd8f30613a849bf918aed5c010340be</td>\n",
       "      <td>eb80205482e4424cad8f16bc25aa2d9c</td>\n",
       "      <td>2018-05-02 02:41:02</td>\n",
       "      <td>&lt;p&gt;Dear Priyanka,&lt;/p&gt;&lt;p&gt;Greetings! I have answered this question to Eshwari few days ago. I am going to reproduce that answer with bit of modifications as required for better clarity. &lt;/p&gt;&lt;p&gt;&lt;br&gt;&lt;/p&gt;&lt;p&gt;From your background, I could make out that you are from Bangalore and a student of 10th standard but your location is Rhode Island, USA. So I am not very clear as to which Army you wish to join ? Is it the US Army or the Indian Army? It is important to know that very few foreign nationals can join Indian Army (like Nepali citizens etc.). So you have to ascertain for yourself as to which citizenship you hold and accordingly you can join armed forces of the respective countries. Both are highly professional armies and respected a lot. I shall answer the modalities about the Indian Army, assuming that is the natural choice.&lt;/p&gt;&lt;p&gt;&lt;br&gt;&lt;/p&gt;&lt;p&gt;So, to answer your query, there are following options for you to become army officer:&lt;/p&gt;&lt;ol&gt;&lt;li&gt; Do your B.Sc  and that will be good as you have wider choices including flying branches in air force and executive branches in Navy. Similarly BA/B.Com if you are not looking for flying or executive branches. &lt;/li&gt;&lt;li&gt;  Should you wish to be doctor in Army then you can appear for entrance Test for AFMC, Pune or Army Dental College after class 12th with PCMB. However, you can do the same by attending Medical colleges from civil institutes in India/abroad.  &lt;/li&gt;&lt;li&gt; You can also join Military Nursing Services after B.Sc or Diploma in Nursing but majority of them are trained within army organisations (after 12th only  with PCMB). &lt;/li&gt;&lt;li&gt; You can join after doing your graduation in Engineering (Civil, Mech, Electrical, Electronics or Computer Sciences) or Masters in Physics with Electronics or Computers for engineering branches.&lt;/li&gt;&lt;li&gt;You can also join in Education Corps by doing M.Sc/MA/M.Com with or without B.Ed or in Legal services by doing your Law Degree. &lt;/li&gt;&lt;/ol&gt;&lt;p&gt;&lt;br&gt;&lt;/p&gt;&lt;p&gt;After your basic education, application and selection test processes, one has to clear SSB (Services Selection Board) which is a very stringent 5 days test (compulsory for all including Women officers except medical professionals). It is one of the best methods of test I know to assess the suitability for military services (as officers), a proven method of testing of one's psyche, leadership qualities which takes  all the aspects of your personality into account and decide.  Although, success rate is pretty low but don't get disheartened and demotivated. Key to success in SSB is a sound mind with sound body, positive attitude and basic IQ.  If I could do with an average IQ and humble  educational backgrounds, why not you?  There were many friends (within my batch) of whom we thought that they will never make it to the SSB but they did qualify and now serving as  Major General. &lt;/p&gt;&lt;p&gt;Please refer the links given below and you can find scores of material to read about SSB on the net or through books.&lt;/p&gt;&lt;p&gt;All the Very Best! Jai Hind!&lt;/p&gt;&amp;lt;h1&amp;gt;&lt;br&gt;&amp;lt;/h1&amp;gt;&lt;p&gt;&lt;br&gt;&lt;/p&gt;</td>\n",
       "      <td>711 days 09:52:37</td>\n",
       "      <td>2</td>\n",
       "      <td>0</td>\n",
       "    </tr>\n",
       "    <tr>\n",
       "      <th>3</th>\n",
       "      <td>1a6b3749d391486c9e371fbd1e605014</td>\n",
       "      <td>7e72a630c303442ba92ff00e8ea451df</td>\n",
       "      <td>4ec31632938a40b98909416bdd0decff</td>\n",
       "      <td>2017-05-10 19:00:47</td>\n",
       "      <td>&lt;p&gt;I work for a global company who values highly international experience.  In fact, that is a key experience we look for in candidates.  Therefore, I'd say it would be wise to take advantage of the teaching opportunity - even if only for a year or 2.  You never know where it might lead and you will certainly have an edge on your return if you then look for employment in a global company.&lt;/p&gt;</td>\n",
       "      <td>90 days 23:47:09</td>\n",
       "      <td>1</td>\n",
       "      <td>0</td>\n",
       "    </tr>\n",
       "    <tr>\n",
       "      <th>4</th>\n",
       "      <td>5229c514000446d582050f89ebd4e184</td>\n",
       "      <td>17802d94699140b0a0d2995f30c034c6</td>\n",
       "      <td>2f6a9a99d9b24e5baa50d40d0ba50a75</td>\n",
       "      <td>2017-10-13 22:07:33</td>\n",
       "      <td>I agree with Denise. Every single job I've had since my first internship in college, I've found through connections. I have also been surprised that in some cases, connections that I least expected were crucial in helping me find new opportunities. For example, I am about to start a new role that in a lot of ways, is my dream job. A few months ago, I connected with someone that used to be on my team at a different company. We only worked on the same team for about 2 months, and 5 years later, ended up working at another tech company in Seattle. He ended up being the hiring manager for this new role, and after passing the other interviews, I got the job. \\n\\nI would say the most important thing when starting your career is to define what you want your brand to be, and what you want to be known for. This will help give you guidance on what activities and events to prioritize, books to read, etc. \\n\\nIt's also essential to be mindful of the impression you leave with others. While networking is essential to building your career, it's important that it's also backed up by a reputation you feel proud about. \\n\\nAs a student, I remember this feeling like an incredibly daunting task. It made it easier for me to find a group I could relate to. I joined ALPFA, an association for Latino Professionals that work across various business disciplines. I would recommend finding an organization that speaks to you, and begin practicing your networking skills there.</td>\n",
       "      <td>42 days 08:02:01</td>\n",
       "      <td>2</td>\n",
       "      <td>0</td>\n",
       "    </tr>\n",
       "  </tbody>\n",
       "</table>\n",
       "</div>"
      ],
      "text/plain": [
       "                         answers_id                 answers_author_id  \\\n",
       "0  4e5f01128cae4f6d8fd697cec5dca60c  36ff3b3666df400f956f8335cf53e09e   \n",
       "1  ada720538c014e9b8a6dceed09385ee3  2aa47af241bf42a4b874c453f0381bd4   \n",
       "2  eaa66ef919bc408ab5296237440e323f  cbd8f30613a849bf918aed5c010340be   \n",
       "3  1a6b3749d391486c9e371fbd1e605014  7e72a630c303442ba92ff00e8ea451df   \n",
       "4  5229c514000446d582050f89ebd4e184  17802d94699140b0a0d2995f30c034c6   \n",
       "\n",
       "                answers_question_id  answers_date_added  \\\n",
       "0  332a511f1569444485cf7a7a556a5e54 2016-04-29 19:40:14   \n",
       "1  eb80205482e4424cad8f16bc25aa2d9c 2018-05-01 14:19:08   \n",
       "2  eb80205482e4424cad8f16bc25aa2d9c 2018-05-02 02:41:02   \n",
       "3  4ec31632938a40b98909416bdd0decff 2017-05-10 19:00:47   \n",
       "4  2f6a9a99d9b24e5baa50d40d0ba50a75 2017-10-13 22:07:33   \n",
       "\n",
       "                                                                                                                                                                                                                                                                                                                                                                                                                                                                                                                                                                                                                                                                                                                                                                                                                                                                                                                                                                                                                                                                                                                                                                                                                                                                                                                                                                                                                                                                                                                                                                                                                                                                                                                                                                                                                                                                                                                                                                                                                                                                                                                                                                                                                                                                                                                                                                                                                                                                                                                                                                                                                                                                                                                                                                                                                                                                                                                                                                                                                                                                                                                                                   answers_body  \\\n",
       "0  <p>Hi!</p>\\n<p>You are asking a very interesting question.  I am giving you two sites that will give you some of an explanation that may answer your question.</p>\\n<p>http://mathforum.org/dr.math/faq/faq.why.math.html</p>\\n<p>http://www.mathworksheetscenter.com/mathtips/mathissoimportant.html</p>\\n<p>Let me know if this helps</p>                                                                                                                                                                                                                                                                                                                                                                                                                                                                                                                                                                                                                                                                                                                                                                                                                                                                                                                                                                                                                                                                                                                                                                                                                                                                                                                                                                                                                                                                                                                                                                                                                                                                                                                                                                                                                                                                                                                                                                                                                                                                                                                                                                                                                                                                                                                                                                                                                                                                                                                                                                                                                                                                                                                                                                                                                    \n",
       "1  <p>Hi. I joined the Army after I attended college and received a Bachelor's Degree in Criminal Justice.  Commissioned officers enter the Military with a four year degree or receive officer training after joining and complete a tour. You can prepare yourself by taking Reserve Officer Training Corps (ROTC) while in high school or a university. You can also attend Officer Candidate School (OCS) after graduating from college or become commissioned by earning a professional degree. If you decide to earn a degree, think about what you would like to do while in the military.  The experience in the military was very rewarding. I wish you well and much success in your future. </p>                                                                                                                                                                                                                                                                                                                                                                                                                                                                                                                                                                                                                                                                                                                                                                                                                                                                                                                                                                                                                                                                                                                                                                                                                                                                                                                                                                                                                                                                                                                                                                                                                                                                                                                                                                                                                                                                                                                                                                                                                                                                                                                                                                                                                                                                                                                                                                                                                                                       \n",
       "2  <p>Dear Priyanka,</p><p>Greetings! I have answered this question to Eshwari few days ago. I am going to reproduce that answer with bit of modifications as required for better clarity. </p><p><br></p><p>From your background, I could make out that you are from Bangalore and a student of 10th standard but your location is Rhode Island, USA. So I am not very clear as to which Army you wish to join ? Is it the US Army or the Indian Army? It is important to know that very few foreign nationals can join Indian Army (like Nepali citizens etc.). So you have to ascertain for yourself as to which citizenship you hold and accordingly you can join armed forces of the respective countries. Both are highly professional armies and respected a lot. I shall answer the modalities about the Indian Army, assuming that is the natural choice.</p><p><br></p><p>So, to answer your query, there are following options for you to become army officer:</p><ol><li> Do your B.Sc  and that will be good as you have wider choices including flying branches in air force and executive branches in Navy. Similarly BA/B.Com if you are not looking for flying or executive branches. </li><li>  Should you wish to be doctor in Army then you can appear for entrance Test for AFMC, Pune or Army Dental College after class 12th with PCMB. However, you can do the same by attending Medical colleges from civil institutes in India/abroad.  </li><li> You can also join Military Nursing Services after B.Sc or Diploma in Nursing but majority of them are trained within army organisations (after 12th only  with PCMB). </li><li> You can join after doing your graduation in Engineering (Civil, Mech, Electrical, Electronics or Computer Sciences) or Masters in Physics with Electronics or Computers for engineering branches.</li><li>You can also join in Education Corps by doing M.Sc/MA/M.Com with or without B.Ed or in Legal services by doing your Law Degree. </li></ol><p><br></p><p>After your basic education, application and selection test processes, one has to clear SSB (Services Selection Board) which is a very stringent 5 days test (compulsory for all including Women officers except medical professionals). It is one of the best methods of test I know to assess the suitability for military services (as officers), a proven method of testing of one's psyche, leadership qualities which takes  all the aspects of your personality into account and decide.  Although, success rate is pretty low but don't get disheartened and demotivated. Key to success in SSB is a sound mind with sound body, positive attitude and basic IQ.  If I could do with an average IQ and humble  educational backgrounds, why not you?  There were many friends (within my batch) of whom we thought that they will never make it to the SSB but they did qualify and now serving as  Major General. </p><p>Please refer the links given below and you can find scores of material to read about SSB on the net or through books.</p><p>All the Very Best! Jai Hind!</p>&lt;h1&gt;<br>&lt;/h1&gt;<p><br></p>   \n",
       "3  <p>I work for a global company who values highly international experience.  In fact, that is a key experience we look for in candidates.  Therefore, I'd say it would be wise to take advantage of the teaching opportunity - even if only for a year or 2.  You never know where it might lead and you will certainly have an edge on your return if you then look for employment in a global company.</p>                                                                                                                                                                                                                                                                                                                                                                                                                                                                                                                                                                                                                                                                                                                                                                                                                                                                                                                                                                                                                                                                                                                                                                                                                                                                                                                                                                                                                                                                                                                                                                                                                                                                                                                                                                                                                                                                                                                                                                                                                                                                                                                                                                                                                                                                                                                                                                                                                                                                                                                                                                                                                                                                                                                                                    \n",
       "4  I agree with Denise. Every single job I've had since my first internship in college, I've found through connections. I have also been surprised that in some cases, connections that I least expected were crucial in helping me find new opportunities. For example, I am about to start a new role that in a lot of ways, is my dream job. A few months ago, I connected with someone that used to be on my team at a different company. We only worked on the same team for about 2 months, and 5 years later, ended up working at another tech company in Seattle. He ended up being the hiring manager for this new role, and after passing the other interviews, I got the job. \\n\\nI would say the most important thing when starting your career is to define what you want your brand to be, and what you want to be known for. This will help give you guidance on what activities and events to prioritize, books to read, etc. \\n\\nIt's also essential to be mindful of the impression you leave with others. While networking is essential to building your career, it's important that it's also backed up by a reputation you feel proud about. \\n\\nAs a student, I remember this feeling like an incredibly daunting task. It made it easier for me to find a group I could relate to. I joined ALPFA, an association for Latino Professionals that work across various business disciplines. I would recommend finding an organization that speaks to you, and begin practicing your networking skills there.                                                                                                                                                                                                                                                                                                                                                                                                                                                                                                                                                                                                                                                                                                                                                                                                                                                                                                                                                                                                                                                                                                                                                                                                                                                                                                                                                                                                                                                                                                                                                                                                                                 \n",
       "\n",
       "  time_delta_answer  answers_time_rank  answers_hearts  \n",
       "0 3 days 08:25:48    1                  0               \n",
       "1 710 days 21:30:43  1                  0               \n",
       "2 711 days 09:52:37  2                  0               \n",
       "3 90 days 23:47:09   1                  0               \n",
       "4 42 days 08:02:01   2                  0               "
      ]
     },
     "execution_count": 38,
     "metadata": {},
     "output_type": "execute_result"
    }
   ],
   "source": [
    "answers.head()"
   ]
  },
  {
   "cell_type": "markdown",
   "metadata": {},
   "source": [
    "### Professionals\n",
    "**DataFrame Professionals:**  \n",
    "* **professionals_time_delta_joined:** Time since creating the account.  \n",
    "* **professionals_answers_count:** Number of written answers.  \n",
    "* **professionals_comments_count:** Number of written comments.  \n",
    "* **date_last_answer:** Date last answer.  \n",
    "* **date_first_answer:** Date first answer.  \n",
    "* **date_last_comment:** Date last comment.  \n",
    "* **date_first_comment:** Date first comment.  \n",
    "* **date_last_activity:** Date last activity (answer or comment).  \n",
    "* **date_first_activity:** Date first activity (answer or comment).  \n",
    "* **professional_answers_hearts:** Hearts score for all answers. \n",
    "* **professional_tags:** List with tags for the professional.  "
   ]
  },
  {
   "cell_type": "code",
   "execution_count": 39,
   "metadata": {},
   "outputs": [],
   "source": [
    "# Time since joining\n",
    "professionals['professionals_time_delta_joined'] = actual_date - professionals['professionals_date_joined']"
   ]
  },
  {
   "cell_type": "code",
   "execution_count": 40,
   "metadata": {},
   "outputs": [],
   "source": [
    "# Number of answers\n",
    "temp = answers.groupby('answers_author_id').size()\n",
    "professionals['professionals_answers_count'] = pd.merge(professionals, pd.DataFrame(temp.rename('count')), left_on='professionals_id', right_index=True, how='left')['count'].fillna(0).astype(int)"
   ]
  },
  {
   "cell_type": "code",
   "execution_count": 41,
   "metadata": {},
   "outputs": [],
   "source": [
    "# Number of comments\n",
    "temp = comments.groupby('comments_author_id').size()\n",
    "professionals['professionals_comments_count'] = pd.merge(professionals, pd.DataFrame(temp.rename('count')), left_on='professionals_id', right_index=True, how='left')['count'].fillna(0).astype(int)"
   ]
  },
  {
   "cell_type": "code",
   "execution_count": 42,
   "metadata": {},
   "outputs": [],
   "source": [
    "# Last activity (Answer)\n",
    "temp = answers.groupby('answers_author_id')['answers_date_added'].max()\n",
    "professionals['date_last_answer'] = pd.merge(professionals, pd.DataFrame(temp.rename('last_answer')), left_on='professionals_id', right_index=True, how='left')['last_answer']"
   ]
  },
  {
   "cell_type": "code",
   "execution_count": 43,
   "metadata": {},
   "outputs": [],
   "source": [
    "# First activity (Answer)\n",
    "temp = answers.groupby('answers_author_id')['answers_date_added'].min()\n",
    "professionals['date_first_answer'] = pd.merge(professionals, pd.DataFrame(temp.rename('first_answer')), left_on='professionals_id', right_index=True, how='left')['first_answer']"
   ]
  },
  {
   "cell_type": "code",
   "execution_count": 44,
   "metadata": {},
   "outputs": [],
   "source": [
    "# Last activity (Comment)\n",
    "temp = comments.groupby('comments_author_id')['comments_date_added'].max()\n",
    "professionals['date_last_comment'] = pd.merge(professionals, pd.DataFrame(temp.rename('last_comment')), left_on='professionals_id', right_index=True, how='left')['last_comment']"
   ]
  },
  {
   "cell_type": "code",
   "execution_count": 45,
   "metadata": {},
   "outputs": [],
   "source": [
    "# First activity (Comment)\n",
    "temp = comments.groupby('comments_author_id')['comments_date_added'].min()\n",
    "professionals['date_first_comment'] = pd.merge(professionals, pd.DataFrame(temp.rename('first_comment')), left_on='professionals_id', right_index=True, how='left')['first_comment']"
   ]
  },
  {
   "cell_type": "code",
   "execution_count": 46,
   "metadata": {},
   "outputs": [],
   "source": [
    "# Last activity (Total)\n",
    "professionals['date_last_activity'] = professionals[['date_last_answer', 'date_last_comment']].max(axis=1)"
   ]
  },
  {
   "cell_type": "code",
   "execution_count": 47,
   "metadata": {},
   "outputs": [],
   "source": [
    "# First activity (Total)\n",
    "professionals['date_first_activity'] = professionals[['date_first_answer', 'date_first_comment']].min(axis=1)"
   ]
  },
  {
   "cell_type": "code",
   "execution_count": 48,
   "metadata": {},
   "outputs": [],
   "source": [
    "# Total Hearts score\n",
    "temp = answers.groupby('answers_author_id')['answers_hearts'].sum()\n",
    "professionals['professional_answers_hearts'] = pd.merge(professionals, pd.DataFrame(temp.rename('answers_hearts')), left_on='professionals_id', right_index=True, how='left')['answers_hearts'].fillna(0).astype(int)"
   ]
  },
  {
   "cell_type": "code",
   "execution_count": 49,
   "metadata": {},
   "outputs": [],
   "source": [
    "# Professionals Tags to List\n",
    "temp = pd.merge(professionals, tag_users, left_on='professionals_id', right_on='tag_users_user_id', how='inner')\n",
    "temp = pd.merge(temp, tags, left_on='tag_users_tag_id', right_on='tags_tag_id', how='inner')\n",
    "temp = temp.groupby('professionals_id')['tags_tag_name'].apply(list).rename('professionals_tags')\n",
    "professionals['professionals_tags'] = pd.merge(professionals, temp.to_frame(), left_on='professionals_id', right_index=True, how='left')['professionals_tags']"
   ]
  },
  {
   "cell_type": "code",
   "execution_count": 50,
   "metadata": {},
   "outputs": [],
   "source": [
    "### Students"
   ]
  },
  {
   "cell_type": "code",
   "execution_count": 51,
   "metadata": {},
   "outputs": [],
   "source": [
    "# Time since joining\n",
    "students['students_time_delta_joined'] = actual_date - students['students_date_joined']"
   ]
  },
  {
   "cell_type": "code",
   "execution_count": 52,
   "metadata": {},
   "outputs": [],
   "source": [
    "# Number of answers\n",
    "temp = questions.groupby('questions_author_id').size()\n",
    "students['students_questions_count'] = pd.merge(students, pd.DataFrame(temp.rename('count')), left_on='students_id', right_index=True, how='left')['count'].fillna(0).astype(int)"
   ]
  },
  {
   "cell_type": "code",
   "execution_count": 53,
   "metadata": {},
   "outputs": [],
   "source": [
    "# Number of comments\n",
    "temp = comments.groupby('comments_author_id').size()\n",
    "students['students_comments_count'] = pd.merge(students, pd.DataFrame(temp.rename('count')), left_on='students_id', right_index=True, how='left')['count'].fillna(0).astype(int)"
   ]
  },
  {
   "cell_type": "code",
   "execution_count": 54,
   "metadata": {},
   "outputs": [],
   "source": [
    "# Last activity (Question)\n",
    "temp = questions.groupby('questions_author_id')['questions_date_added'].max()\n",
    "students['date_last_question'] = pd.merge(students, pd.DataFrame(temp.rename('last_question')), left_on='students_id', right_index=True, how='left')['last_question']"
   ]
  },
  {
   "cell_type": "code",
   "execution_count": 55,
   "metadata": {},
   "outputs": [],
   "source": [
    "# First activity (Question)\n",
    "temp = questions.groupby('questions_author_id')['questions_date_added'].min()\n",
    "students['date_first_question'] = pd.merge(students, pd.DataFrame(temp.rename('first_question')), left_on='students_id', right_index=True, how='left')['first_question']"
   ]
  },
  {
   "cell_type": "code",
   "execution_count": 56,
   "metadata": {},
   "outputs": [],
   "source": [
    "# Last activity (Comment)\n",
    "temp = comments.groupby('comments_author_id')['comments_date_added'].max()\n",
    "students['date_last_comment'] = pd.merge(students, pd.DataFrame(temp.rename('last_comment')), left_on='students_id', right_index=True, how='left')['last_comment']"
   ]
  },
  {
   "cell_type": "code",
   "execution_count": 57,
   "metadata": {},
   "outputs": [],
   "source": [
    "# First activity (Comment)\n",
    "temp = comments.groupby('comments_author_id')['comments_date_added'].min()\n",
    "students['date_first_comment'] = pd.merge(students, pd.DataFrame(temp.rename('first_comment')), left_on='students_id', right_index=True, how='left')['first_comment']"
   ]
  },
  {
   "cell_type": "code",
   "execution_count": 58,
   "metadata": {},
   "outputs": [],
   "source": [
    "# Last activity (Total)\n",
    "students['date_last_activity'] = students[['date_last_question', 'date_last_comment']].max(axis=1)"
   ]
  },
  {
   "cell_type": "code",
   "execution_count": 59,
   "metadata": {},
   "outputs": [],
   "source": [
    "# First activity (Total)\n",
    "students['date_first_activity'] = students[['date_first_question', 'date_first_comment']].min(axis=1)"
   ]
  },
  {
   "cell_type": "code",
   "execution_count": 60,
   "metadata": {},
   "outputs": [],
   "source": [
    "# Total Hearts score\n",
    "temp = questions.groupby('questions_author_id')['questions_hearts'].sum()\n",
    "students['students_questions_hearts'] = pd.merge(students, pd.DataFrame(temp.rename('questions_hearts')), left_on='students_id', right_index=True, how='left')['questions_hearts'].fillna(0).astype(int)"
   ]
  },
  {
   "cell_type": "code",
   "execution_count": 61,
   "metadata": {},
   "outputs": [],
   "source": [
    "# Students Tags to List\n",
    "temp = pd.merge(students, tag_users, left_on='students_id', right_on='tag_users_user_id', how='inner')\n",
    "temp = pd.merge(temp, tags, left_on='tag_users_tag_id', right_on='tags_tag_id', how='inner')\n",
    "temp = temp.groupby('students_id')['tags_tag_name'].apply(list).rename('students_tags')\n",
    "students['students_tags'] = pd.merge(students, temp.to_frame(), left_on='students_id', right_index=True, how='left')['students_tags']"
   ]
  },
  {
   "cell_type": "code",
   "execution_count": 62,
   "metadata": {},
   "outputs": [],
   "source": [
    "### Emails Response\n",
    "emails_response = pd.merge(emails, matches, left_on='emails_id', right_on='matches_email_id', how='inner')\n",
    "emails_response = pd.merge(emails_response, questions, left_on='matches_question_id', right_on='questions_id', how='inner')\n",
    "emails_response = pd.merge(emails_response, answers, left_on=['emails_recipient_id', 'matches_question_id'], right_on=['answers_author_id', 'answers_question_id'], how='left')\n",
    "emails_response = emails_response.drop(['matches_email_id', 'matches_question_id', 'answers_id', 'answers_author_id', 'answers_body', 'answers_question_id'], axis=1)\n",
    "emails_response = emails_response.drop(['questions_author_id', 'questions_title', 'questions_body', 'questions_full_text'], axis=1)\n",
    "emails_response['time_delta_email_answer'] = (emails_response['answers_date_added'] - emails_response['emails_date_sent'])\n",
    "emails_response['time_delta_question_email'] = (emails_response['emails_date_sent'] - emails_response['questions_date_added'])"
   ]
  },
  {
   "cell_type": "code",
   "execution_count": null,
   "metadata": {},
   "outputs": [],
   "source": []
  },
  {
   "cell_type": "markdown",
   "metadata": {},
   "source": [
    "### EDA"
   ]
  },
  {
   "cell_type": "code",
   "execution_count": 63,
   "metadata": {},
   "outputs": [
    {
     "data": {
      "image/png": "[encoded data removed]",
      "text/plain": [
       "<Figure size 1080x360 with 1 Axes>"
      ]
     },
     "metadata": {
      "needs_background": "light"
     },
     "output_type": "display_data"
    }
   ],
   "source": [
    "plt_professionals = (professionals.groupby([professionals['professionals_date_joined'].dt.year]).size()/len(professionals.index))\n",
    "plt_students = (students.groupby([students['students_date_joined'].dt.year]).size()/len(students.index))\n",
    "plt_questions = (questions.groupby([questions['questions_date_added'].dt.year]).size()/len(questions.index))\n",
    "plt_answers = (answers.groupby([answers['answers_date_added'].dt.year]).size()/len(answers.index))\n",
    "plt_emails = (emails.groupby([emails['emails_date_sent'].dt.year]).size()/len(emails.index))\n",
    "plt_comments = (comments.groupby([comments['comments_date_added'].dt.year]).size()/len(comments.index))\n",
    "plt_data = pd.DataFrame({'students':plt_students,\n",
    "                         'questions': plt_questions,\n",
    "                         'professionals':plt_professionals,\n",
    "                        'answers':plt_answers,\n",
    "                        'comments':plt_comments,\n",
    "                        'emails':plt_emails})\n",
    "plt_data.plot(kind='bar', figsize=(15, 5))\n",
    "plt.xlabel('Year')\n",
    "plt.ylabel('Proportion')\n",
    "plt.title('Distribution over time')\n",
    "plt.show()"
   ]
  },
  {
   "cell_type": "code",
   "execution_count": null,
   "metadata": {},
   "outputs": [],
   "source": [
    "If we see after 2016 only data "
   ]
  }
 ],
 "metadata": {
  "kernelspec": {
   "display_name": "Python (pytorchenv)",
   "language": "python",
   "name": "pytorchenv"
  },
  "language_info": {
   "codemirror_mode": {
    "name": "ipython",
    "version": 3
   },
   "file_extension": ".py",
   "mimetype": "text/x-python",
   "name": "python",
   "nbconvert_exporter": "python",
   "pygments_lexer": "ipython3",
   "version": "3.8.3"
  }
 },
 "nbformat": 4,
 "nbformat_minor": 4
}
