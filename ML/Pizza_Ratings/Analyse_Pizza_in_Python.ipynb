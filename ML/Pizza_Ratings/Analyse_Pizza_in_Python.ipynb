{
 "cells": [
  {
   "cell_type": "code",
   "execution_count": 1,
   "metadata": {},
   "outputs": [],
   "source": [
    "import pandas as pd\n",
    "from datetime import datetime"
   ]
  },
  {
   "cell_type": "code",
   "execution_count": null,
   "metadata": {},
   "outputs": [],
   "source": []
  },
  {
   "cell_type": "code",
   "execution_count": null,
   "metadata": {},
   "outputs": [],
   "source": []
  },
  {
   "cell_type": "code",
   "execution_count": null,
   "metadata": {},
   "outputs": [],
   "source": []
  },
  {
   "cell_type": "code",
   "execution_count": 2,
   "metadata": {},
   "outputs": [],
   "source": [
    "pizza_jared = pd.read_csv(\"data/pizza_jared.csv\")\n",
    "pizza_barstool = pd.read_csv(\"data/pizza_barstool.csv\")\n",
    "pizza_datafiniti = pd.read_csv(\"data/pizza_datafiniti.csv\")"
   ]
  },
  {
   "cell_type": "code",
   "execution_count": 3,
   "metadata": {},
   "outputs": [
    {
     "data": {
      "text/html": [
       "<div>\n",
       "<style scoped>\n",
       "    .dataframe tbody tr th:only-of-type {\n",
       "        vertical-align: middle;\n",
       "    }\n",
       "\n",
       "    .dataframe tbody tr th {\n",
       "        vertical-align: top;\n",
       "    }\n",
       "\n",
       "    .dataframe thead th {\n",
       "        text-align: right;\n",
       "    }\n",
       "</style>\n",
       "<table border=\"1\" class=\"dataframe\">\n",
       "  <thead>\n",
       "    <tr style=\"text-align: right;\">\n",
       "      <th></th>\n",
       "      <th>polla_qid</th>\n",
       "      <th>answer</th>\n",
       "      <th>votes</th>\n",
       "      <th>pollq_id</th>\n",
       "      <th>question</th>\n",
       "      <th>place</th>\n",
       "      <th>time</th>\n",
       "      <th>total_votes</th>\n",
       "      <th>percent</th>\n",
       "    </tr>\n",
       "  </thead>\n",
       "  <tbody>\n",
       "    <tr>\n",
       "      <td>0</td>\n",
       "      <td>2</td>\n",
       "      <td>Excellent</td>\n",
       "      <td>0</td>\n",
       "      <td>2</td>\n",
       "      <td>How was Pizza Mercato?</td>\n",
       "      <td>Pizza Mercato</td>\n",
       "      <td>1344361527</td>\n",
       "      <td>13</td>\n",
       "      <td>0.0000</td>\n",
       "    </tr>\n",
       "    <tr>\n",
       "      <td>1</td>\n",
       "      <td>2</td>\n",
       "      <td>Good</td>\n",
       "      <td>6</td>\n",
       "      <td>2</td>\n",
       "      <td>How was Pizza Mercato?</td>\n",
       "      <td>Pizza Mercato</td>\n",
       "      <td>1344361527</td>\n",
       "      <td>13</td>\n",
       "      <td>0.4615</td>\n",
       "    </tr>\n",
       "    <tr>\n",
       "      <td>2</td>\n",
       "      <td>2</td>\n",
       "      <td>Average</td>\n",
       "      <td>4</td>\n",
       "      <td>2</td>\n",
       "      <td>How was Pizza Mercato?</td>\n",
       "      <td>Pizza Mercato</td>\n",
       "      <td>1344361527</td>\n",
       "      <td>13</td>\n",
       "      <td>0.3077</td>\n",
       "    </tr>\n",
       "    <tr>\n",
       "      <td>3</td>\n",
       "      <td>2</td>\n",
       "      <td>Poor</td>\n",
       "      <td>1</td>\n",
       "      <td>2</td>\n",
       "      <td>How was Pizza Mercato?</td>\n",
       "      <td>Pizza Mercato</td>\n",
       "      <td>1344361527</td>\n",
       "      <td>13</td>\n",
       "      <td>0.0769</td>\n",
       "    </tr>\n",
       "    <tr>\n",
       "      <td>4</td>\n",
       "      <td>2</td>\n",
       "      <td>Never Again</td>\n",
       "      <td>2</td>\n",
       "      <td>2</td>\n",
       "      <td>How was Pizza Mercato?</td>\n",
       "      <td>Pizza Mercato</td>\n",
       "      <td>1344361527</td>\n",
       "      <td>13</td>\n",
       "      <td>0.1538</td>\n",
       "    </tr>\n",
       "  </tbody>\n",
       "</table>\n",
       "</div>"
      ],
      "text/plain": [
       "   polla_qid       answer  votes  pollq_id                question  \\\n",
       "0          2    Excellent      0         2  How was Pizza Mercato?   \n",
       "1          2         Good      6         2  How was Pizza Mercato?   \n",
       "2          2      Average      4         2  How was Pizza Mercato?   \n",
       "3          2         Poor      1         2  How was Pizza Mercato?   \n",
       "4          2  Never Again      2         2  How was Pizza Mercato?   \n",
       "\n",
       "           place        time  total_votes  percent  \n",
       "0  Pizza Mercato  1344361527           13   0.0000  \n",
       "1  Pizza Mercato  1344361527           13   0.4615  \n",
       "2  Pizza Mercato  1344361527           13   0.3077  \n",
       "3  Pizza Mercato  1344361527           13   0.0769  \n",
       "4  Pizza Mercato  1344361527           13   0.1538  "
      ]
     },
     "execution_count": 3,
     "metadata": {},
     "output_type": "execute_result"
    }
   ],
   "source": [
    "pizza_jared.head()"
   ]
  },
  {
   "cell_type": "markdown",
   "metadata": {},
   "source": [
    "### Find Number of palces Pizza"
   ]
  },
  {
   "cell_type": "code",
   "execution_count": 4,
   "metadata": {},
   "outputs": [],
   "source": [
    "def find_value_counts(df, column):\n",
    "    stats = df[column].value_counts()\n",
    "    return len(stats), stats"
   ]
  },
  {
   "cell_type": "code",
   "execution_count": 5,
   "metadata": {},
   "outputs": [
    {
     "data": {
      "text/plain": [
       "Fiore's                        25\n",
       "Prince Street Pizza            20\n",
       "NY Pizza Suprema               15\n",
       "Rocco's Pizza Joint            10\n",
       "Tappo                          10\n",
       "Rocky's                        10\n",
       "Pizza Mercato                  10\n",
       "Pizza Paradise                 10\n",
       "Saluggi's                      10\n",
       "Joe's 14th                     10\n",
       "Joe's Pizza 14th               10\n",
       "Little Italy Pizza             10\n",
       "Pomodoro                       10\n",
       "Champion Pizza                  5\n",
       "Pizza Bash                      5\n",
       "Pizza 33                        5\n",
       "Bleecker Street Pizza           5\n",
       "Dona Bella                      5\n",
       "Waldy's                         5\n",
       "Otto Enoteca                    5\n",
       "Vinny Vincenz                   5\n",
       "Ben's of SoHo Spring Street     5\n",
       "Naples 45                       5\n",
       "Joe's Pizza                     5\n",
       "Luna Pizza                      5\n",
       "J's                             5\n",
       "Girello                         5\n",
       "Artichoke Basille's Pizza       5\n",
       "Arturo's                        5\n",
       "Steve's Pizza                   5\n",
       "Nonna's LES Pizza               5\n",
       "Stella's Pizza                  5\n",
       "Bravo Pizza                     5\n",
       "Roio's                          5\n",
       "Ben's of SoHo 14th Street       5\n",
       "Dough Boys                      5\n",
       "Kiss My Slice                   5\n",
       "Il Mattone                      5\n",
       "Rivoli Pizza                    5\n",
       "Spunto                          5\n",
       "Williamsburg Pizza              5\n",
       "Mariella                        5\n",
       "New York Pizza Suprema          5\n",
       "Big Slice Pizza                 5\n",
       "Previti Pizza                   5\n",
       "Frank's Express Pizza           5\n",
       "John's of Bleecker              5\n",
       "Highline Pizza                  5\n",
       "Maffei's Pizza                  5\n",
       "Bella Napoli                    5\n",
       "Cavallo's Pizza                 5\n",
       "5 Boroughs Pizza                5\n",
       "Famous Original Ray's           5\n",
       "Pizza Italia                    5\n",
       "Gotham Pizza                    5\n",
       "Patsy's                         5\n",
       "Name: place, dtype: int64"
      ]
     },
     "execution_count": 5,
     "metadata": {},
     "output_type": "execute_result"
    }
   ],
   "source": [
    "no_pizza_places, pizza_places = find_value_counts(pizza_jared, 'place')\n",
    "pizza_places"
   ]
  },
  {
   "cell_type": "markdown",
   "metadata": {},
   "source": [
    "### How many of the Pizza places available"
   ]
  },
  {
   "cell_type": "code",
   "execution_count": 6,
   "metadata": {},
   "outputs": [
    {
     "data": {
      "text/plain": [
       "56"
      ]
     },
     "execution_count": 6,
     "metadata": {},
     "output_type": "execute_result"
    }
   ],
   "source": [
    "no_pizza_places"
   ]
  },
  {
   "cell_type": "markdown",
   "metadata": {},
   "source": [
    "### Lets see how answer is used - "
   ]
  },
  {
   "cell_type": "code",
   "execution_count": 7,
   "metadata": {},
   "outputs": [
    {
     "data": {
      "text/plain": [
       "(6, Good           75\n",
       " Poor           75\n",
       " Average        75\n",
       " Excellent      75\n",
       " Never Again    74\n",
       " Fair            1\n",
       " Name: answer, dtype: int64)"
      ]
     },
     "execution_count": 7,
     "metadata": {},
     "output_type": "execute_result"
    }
   ],
   "source": [
    "find_value_counts(pizza_jared, 'answer')"
   ]
  },
  {
   "cell_type": "markdown",
   "metadata": {},
   "source": [
    "##### There are toatal 6 choices for rating. Only 1 data point has fair rating"
   ]
  },
  {
   "cell_type": "markdown",
   "metadata": {},
   "source": [
    "### Derive date from time"
   ]
  },
  {
   "cell_type": "code",
   "execution_count": 8,
   "metadata": {},
   "outputs": [],
   "source": [
    "pizza_jared['date'] = pizza_jared.time.apply(lambda x : datetime.fromtimestamp(x).strftime(\"%Y-%m-%d\"))"
   ]
  },
  {
   "cell_type": "markdown",
   "metadata": {},
   "source": [
    "### Let's see how question and aswer for a place are related"
   ]
  },
  {
   "cell_type": "code",
   "execution_count": 9,
   "metadata": {},
   "outputs": [
    {
     "data": {
      "text/plain": [
       "question                     answer       place             \n",
       "How Was Roio's?              Average      Roio's                 5\n",
       "                             Excellent    Roio's                 1\n",
       "                             Good         Roio's                 0\n",
       "                             Never Again  Roio's                 0\n",
       "                             Poor         Roio's                 1\n",
       "                                                                ..\n",
       "How was Williamsburg Pizza?  Average      Williamsburg Pizza     6\n",
       "                             Excellent    Williamsburg Pizza    13\n",
       "                             Good         Williamsburg Pizza    19\n",
       "                             Never Again  Williamsburg Pizza     0\n",
       "                             Poor         Williamsburg Pizza     1\n",
       "Name: votes, Length: 281, dtype: int64"
      ]
     },
     "execution_count": 9,
     "metadata": {},
     "output_type": "execute_result"
    }
   ],
   "source": [
    "pizza_jared.groupby(['question', 'answer', 'place'])['votes'].sum()"
   ]
  },
  {
   "cell_type": "markdown",
   "metadata": {},
   "source": [
    "#### But above answer is not with respect to Place\n",
    "\n",
    "### Let's try with grouping by place first"
   ]
  },
  {
   "cell_type": "code",
   "execution_count": 10,
   "metadata": {},
   "outputs": [
    {
     "data": {
      "text/html": [
       "<div>\n",
       "<style scoped>\n",
       "    .dataframe tbody tr th:only-of-type {\n",
       "        vertical-align: middle;\n",
       "    }\n",
       "\n",
       "    .dataframe tbody tr th {\n",
       "        vertical-align: top;\n",
       "    }\n",
       "\n",
       "    .dataframe thead th {\n",
       "        text-align: right;\n",
       "    }\n",
       "</style>\n",
       "<table border=\"1\" class=\"dataframe\">\n",
       "  <thead>\n",
       "    <tr style=\"text-align: right;\">\n",
       "      <th></th>\n",
       "      <th>place</th>\n",
       "      <th>question</th>\n",
       "      <th>answer</th>\n",
       "      <th>votes</th>\n",
       "    </tr>\n",
       "  </thead>\n",
       "  <tbody>\n",
       "    <tr>\n",
       "      <td>0</td>\n",
       "      <td>5 Boroughs Pizza</td>\n",
       "      <td>How was 5 Boroughs Pizza?</td>\n",
       "      <td>Average</td>\n",
       "      <td>2</td>\n",
       "    </tr>\n",
       "    <tr>\n",
       "      <td>1</td>\n",
       "      <td>5 Boroughs Pizza</td>\n",
       "      <td>How was 5 Boroughs Pizza?</td>\n",
       "      <td>Excellent</td>\n",
       "      <td>1</td>\n",
       "    </tr>\n",
       "    <tr>\n",
       "      <td>2</td>\n",
       "      <td>5 Boroughs Pizza</td>\n",
       "      <td>How was 5 Boroughs Pizza?</td>\n",
       "      <td>Good</td>\n",
       "      <td>0</td>\n",
       "    </tr>\n",
       "    <tr>\n",
       "      <td>3</td>\n",
       "      <td>5 Boroughs Pizza</td>\n",
       "      <td>How was 5 Boroughs Pizza?</td>\n",
       "      <td>Never Again</td>\n",
       "      <td>0</td>\n",
       "    </tr>\n",
       "    <tr>\n",
       "      <td>4</td>\n",
       "      <td>5 Boroughs Pizza</td>\n",
       "      <td>How was 5 Boroughs Pizza?</td>\n",
       "      <td>Poor</td>\n",
       "      <td>0</td>\n",
       "    </tr>\n",
       "    <tr>\n",
       "      <td>...</td>\n",
       "      <td>...</td>\n",
       "      <td>...</td>\n",
       "      <td>...</td>\n",
       "      <td>...</td>\n",
       "    </tr>\n",
       "    <tr>\n",
       "      <td>276</td>\n",
       "      <td>Williamsburg Pizza</td>\n",
       "      <td>How was Williamsburg Pizza?</td>\n",
       "      <td>Average</td>\n",
       "      <td>6</td>\n",
       "    </tr>\n",
       "    <tr>\n",
       "      <td>277</td>\n",
       "      <td>Williamsburg Pizza</td>\n",
       "      <td>How was Williamsburg Pizza?</td>\n",
       "      <td>Excellent</td>\n",
       "      <td>13</td>\n",
       "    </tr>\n",
       "    <tr>\n",
       "      <td>278</td>\n",
       "      <td>Williamsburg Pizza</td>\n",
       "      <td>How was Williamsburg Pizza?</td>\n",
       "      <td>Good</td>\n",
       "      <td>19</td>\n",
       "    </tr>\n",
       "    <tr>\n",
       "      <td>279</td>\n",
       "      <td>Williamsburg Pizza</td>\n",
       "      <td>How was Williamsburg Pizza?</td>\n",
       "      <td>Never Again</td>\n",
       "      <td>0</td>\n",
       "    </tr>\n",
       "    <tr>\n",
       "      <td>280</td>\n",
       "      <td>Williamsburg Pizza</td>\n",
       "      <td>How was Williamsburg Pizza?</td>\n",
       "      <td>Poor</td>\n",
       "      <td>1</td>\n",
       "    </tr>\n",
       "  </tbody>\n",
       "</table>\n",
       "<p>281 rows × 4 columns</p>\n",
       "</div>"
      ],
      "text/plain": [
       "                  place                     question       answer  votes\n",
       "0      5 Boroughs Pizza    How was 5 Boroughs Pizza?      Average      2\n",
       "1      5 Boroughs Pizza    How was 5 Boroughs Pizza?    Excellent      1\n",
       "2      5 Boroughs Pizza    How was 5 Boroughs Pizza?         Good      0\n",
       "3      5 Boroughs Pizza    How was 5 Boroughs Pizza?  Never Again      0\n",
       "4      5 Boroughs Pizza    How was 5 Boroughs Pizza?         Poor      0\n",
       "..                  ...                          ...          ...    ...\n",
       "276  Williamsburg Pizza  How was Williamsburg Pizza?      Average      6\n",
       "277  Williamsburg Pizza  How was Williamsburg Pizza?    Excellent     13\n",
       "278  Williamsburg Pizza  How was Williamsburg Pizza?         Good     19\n",
       "279  Williamsburg Pizza  How was Williamsburg Pizza?  Never Again      0\n",
       "280  Williamsburg Pizza  How was Williamsburg Pizza?         Poor      1\n",
       "\n",
       "[281 rows x 4 columns]"
      ]
     },
     "execution_count": 10,
     "metadata": {},
     "output_type": "execute_result"
    }
   ],
   "source": [
    "pizza_jared.groupby(['place', 'question', 'answer'],as_index=False)['votes'].sum()"
   ]
  },
  {
   "cell_type": "markdown",
   "metadata": {},
   "source": [
    "#### This tells you for a place's question how many total votes per answer option"
   ]
  },
  {
   "cell_type": "code",
   "execution_count": 11,
   "metadata": {},
   "outputs": [],
   "source": [
    "pizza_jared['votes'] = pizza_jared.groupby(['place', 'question', 'answer'])['votes'].transform('sum')"
   ]
  },
  {
   "cell_type": "code",
   "execution_count": 12,
   "metadata": {},
   "outputs": [],
   "source": [
    "pizza_jared['total'] = pizza_jared.groupby(['place', 'question', 'answer'])['votes'].transform('sum')"
   ]
  },
  {
   "cell_type": "code",
   "execution_count": 13,
   "metadata": {},
   "outputs": [
    {
     "data": {
      "text/html": [
       "<div>\n",
       "<style scoped>\n",
       "    .dataframe tbody tr th:only-of-type {\n",
       "        vertical-align: middle;\n",
       "    }\n",
       "\n",
       "    .dataframe tbody tr th {\n",
       "        vertical-align: top;\n",
       "    }\n",
       "\n",
       "    .dataframe thead th {\n",
       "        text-align: right;\n",
       "    }\n",
       "</style>\n",
       "<table border=\"1\" class=\"dataframe\">\n",
       "  <thead>\n",
       "    <tr style=\"text-align: right;\">\n",
       "      <th></th>\n",
       "      <th>polla_qid</th>\n",
       "      <th>answer</th>\n",
       "      <th>votes</th>\n",
       "      <th>pollq_id</th>\n",
       "      <th>question</th>\n",
       "      <th>place</th>\n",
       "      <th>time</th>\n",
       "      <th>total_votes</th>\n",
       "      <th>percent</th>\n",
       "      <th>date</th>\n",
       "      <th>total</th>\n",
       "    </tr>\n",
       "  </thead>\n",
       "  <tbody>\n",
       "    <tr>\n",
       "      <td>270</td>\n",
       "      <td>57</td>\n",
       "      <td>Excellent</td>\n",
       "      <td>1</td>\n",
       "      <td>57</td>\n",
       "      <td>How was 5 Boroughs Pizza?</td>\n",
       "      <td>5 Boroughs Pizza</td>\n",
       "      <td>1513264990</td>\n",
       "      <td>3</td>\n",
       "      <td>0.3333</td>\n",
       "      <td>2017-12-14</td>\n",
       "      <td>1</td>\n",
       "    </tr>\n",
       "    <tr>\n",
       "      <td>271</td>\n",
       "      <td>57</td>\n",
       "      <td>Good</td>\n",
       "      <td>0</td>\n",
       "      <td>57</td>\n",
       "      <td>How was 5 Boroughs Pizza?</td>\n",
       "      <td>5 Boroughs Pizza</td>\n",
       "      <td>1513264990</td>\n",
       "      <td>3</td>\n",
       "      <td>0.0000</td>\n",
       "      <td>2017-12-14</td>\n",
       "      <td>0</td>\n",
       "    </tr>\n",
       "    <tr>\n",
       "      <td>272</td>\n",
       "      <td>57</td>\n",
       "      <td>Average</td>\n",
       "      <td>2</td>\n",
       "      <td>57</td>\n",
       "      <td>How was 5 Boroughs Pizza?</td>\n",
       "      <td>5 Boroughs Pizza</td>\n",
       "      <td>1513264990</td>\n",
       "      <td>3</td>\n",
       "      <td>0.6667</td>\n",
       "      <td>2017-12-14</td>\n",
       "      <td>2</td>\n",
       "    </tr>\n",
       "    <tr>\n",
       "      <td>273</td>\n",
       "      <td>57</td>\n",
       "      <td>Poor</td>\n",
       "      <td>0</td>\n",
       "      <td>57</td>\n",
       "      <td>How was 5 Boroughs Pizza?</td>\n",
       "      <td>5 Boroughs Pizza</td>\n",
       "      <td>1513264990</td>\n",
       "      <td>3</td>\n",
       "      <td>0.0000</td>\n",
       "      <td>2017-12-14</td>\n",
       "      <td>0</td>\n",
       "    </tr>\n",
       "    <tr>\n",
       "      <td>274</td>\n",
       "      <td>57</td>\n",
       "      <td>Never Again</td>\n",
       "      <td>0</td>\n",
       "      <td>57</td>\n",
       "      <td>How was 5 Boroughs Pizza?</td>\n",
       "      <td>5 Boroughs Pizza</td>\n",
       "      <td>1513264990</td>\n",
       "      <td>3</td>\n",
       "      <td>0.0000</td>\n",
       "      <td>2017-12-14</td>\n",
       "      <td>0</td>\n",
       "    </tr>\n",
       "  </tbody>\n",
       "</table>\n",
       "</div>"
      ],
      "text/plain": [
       "     polla_qid       answer  votes  pollq_id                   question  \\\n",
       "270         57    Excellent      1        57  How was 5 Boroughs Pizza?   \n",
       "271         57         Good      0        57  How was 5 Boroughs Pizza?   \n",
       "272         57      Average      2        57  How was 5 Boroughs Pizza?   \n",
       "273         57         Poor      0        57  How was 5 Boroughs Pizza?   \n",
       "274         57  Never Again      0        57  How was 5 Boroughs Pizza?   \n",
       "\n",
       "                place        time  total_votes  percent        date  total  \n",
       "270  5 Boroughs Pizza  1513264990            3   0.3333  2017-12-14      1  \n",
       "271  5 Boroughs Pizza  1513264990            3   0.0000  2017-12-14      0  \n",
       "272  5 Boroughs Pizza  1513264990            3   0.6667  2017-12-14      2  \n",
       "273  5 Boroughs Pizza  1513264990            3   0.0000  2017-12-14      0  \n",
       "274  5 Boroughs Pizza  1513264990            3   0.0000  2017-12-14      0  "
      ]
     },
     "execution_count": 13,
     "metadata": {},
     "output_type": "execute_result"
    }
   ],
   "source": [
    "pizza_jared[(pizza_jared.place == '5 Boroughs Pizza') & (pizza_jared.question=='How was 5 Boroughs Pizza?')]"
   ]
  },
  {
   "cell_type": "code",
   "execution_count": 14,
   "metadata": {},
   "outputs": [],
   "source": [
    "pizza_jared['vote_percent'] = pizza_jared['votes'] / pizza_jared['total_votes']"
   ]
  },
  {
   "cell_type": "code",
   "execution_count": null,
   "metadata": {},
   "outputs": [],
   "source": []
  },
  {
   "cell_type": "code",
   "execution_count": null,
   "metadata": {},
   "outputs": [],
   "source": [
    "\n"
   ]
  }
 ],
 "metadata": {
  "kernelspec": {
   "display_name": "Python [conda env:Anaconda3]",
   "language": "python",
   "name": "conda-env-Anaconda3-py"
  },
  "language_info": {
   "codemirror_mode": {
    "name": "ipython",
    "version": 3
   },
   "file_extension": ".py",
   "mimetype": "text/x-python",
   "name": "python",
   "nbconvert_exporter": "python",
   "pygments_lexer": "ipython3",
   "version": "3.6.5"
  }
 },
 "nbformat": 4,
 "nbformat_minor": 2
}
